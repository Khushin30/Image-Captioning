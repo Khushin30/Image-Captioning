{
 "cells": [
  {
   "cell_type": "code",
   "execution_count": null,
   "metadata": {},
   "outputs": [
    {
     "name": "stderr",
     "output_type": "stream",
     "text": [
      "C:\\Users\\patel\\AppData\\Local\\Packages\\PythonSoftwareFoundation.Python.3.10_qbz5n2kfra8p0\\LocalCache\\local-packages\\Python310\\site-packages\\tqdm\\auto.py:21: TqdmWarning: IProgress not found. Please update jupyter and ipywidgets. See https://ipywidgets.readthedocs.io/en/stable/user_install.html\n",
      "  from .autonotebook import tqdm as notebook_tqdm\n"
     ]
    }
   ],
   "source": [
    "import google.generativeai as genai\n",
    "import random\n",
    "from datasets import load_dataset\n",
    "from collections import defaultdict\n",
    "import matplotlib.pyplot as plt\n",
    "\n",
    "from PIL import Image\n",
    "import json"
   ]
  },
  {
   "cell_type": "code",
   "execution_count": 2,
   "metadata": {},
   "outputs": [],
   "source": [
    "dataset = load_dataset(\"philschmid/amazon-product-descriptions-vlm\")\n",
    "product_images = dataset['train']['image']\n",
    "product_desc = dataset['train']['description']\n",
    "uniq_ids = dataset['train']['Uniq Id']"
   ]
  },
  {
   "cell_type": "markdown",
   "metadata": {},
   "source": [
    "Define a function that sends an image and the specified prompts to genai to generate synthetic captions so that we have a larger dataset. We specify different prompts so that the generated captions are diverse and prevent from overfitting."
   ]
  },
  {
   "cell_type": "code",
   "execution_count": null,
   "metadata": {},
   "outputs": [],
   "source": [
    "genai.configure(api_key=\"get your own key\")\n",
    "\n",
    "uniq_to_generated_description = defaultdict(list)\n",
    "\n",
    "error_imgs = []\n",
    "\n",
    "def generate_captions(image, description, uniq_id):\n",
    "    prompt = f\"\"\"\n",
    "    Here is a product image and its description:\n",
    "    \"{description}\"\n",
    "\n",
    "    Generate 6 alternative captions:\n",
    "    \"**Concise**: A short, to-the-point caption (under 15 words).\",\n",
    "    \"**Marketing-Oriented**: A persuasive, engaging caption that highlights key benefits.\",\n",
    "    \"**Technical & Detailed**: A caption focused on specifications, materials, and functionality.\",\n",
    "    \"**Visual-Only Description (Basic)**: Describe only the product’s appearance without mentioning its use.\",\n",
    "    \"**Visual-Only Description (Creative)**: A descriptive, engaging take on the product’s look with vivid imagery.\",\n",
    "    \"**Keyword-Rich**: Use common product-related keywords.\",\n",
    "\n",
    "    Separate each caption with a newline character. Do **not** format in markdown.\n",
    "    \"\"\"\n",
    "\n",
    "    model = genai.GenerativeModel(\"gemini-1.5-flash\")\n",
    "    response = model.generate_content([prompt, image])  # Send image + text\n",
    "    \n",
    "    return response.text.strip() if response else \"Error: No response for \" + str(uniq_id)"
   ]
  },
  {
   "cell_type": "code",
   "execution_count": 254,
   "metadata": {},
   "outputs": [
    {
     "data": {
      "text/plain": [
       "1344"
      ]
     },
     "execution_count": 254,
     "metadata": {},
     "output_type": "execute_result"
    }
   ],
   "source": [
    "with open(\"./data.json\", \"r\") as file:\n",
    "    data = json.load(file)  # Load JSON data\n",
    "uniques = defaultdict(list)\n",
    "for key, value in data.items():\n",
    "    if isinstance(value, list):  # Ensure values are lists\n",
    "        uniques[key] = value\n",
    "\n",
    "len(uniques.keys())"
   ]
  },
  {
   "cell_type": "markdown",
   "metadata": {},
   "source": [
    "currently we have 1,344 imgs and captions"
   ]
  },
  {
   "cell_type": "markdown",
   "metadata": {},
   "source": [
    "Since gemini gives a time limit we will not be able to generate all of them at once so I will just generate them in batches and manually update the start and end as a batch."
   ]
  },
  {
   "cell_type": "code",
   "execution_count": null,
   "metadata": {},
   "outputs": [],
   "source": [
    "start = 1286\n",
    "end = 1000 + 346\n",
    "current_imgs = [product_images[start]]\n",
    "current_desc = [product_desc[start]]\n",
    "current_ids = [uniq_ids[start]]\n",
    "uniq_to_generated_description[current_ids[0]] = []"
   ]
  },
  {
   "cell_type": "code",
   "execution_count": 247,
   "metadata": {},
   "outputs": [
    {
     "data": {
      "text/plain": [
       "1345"
      ]
     },
     "execution_count": 247,
     "metadata": {},
     "output_type": "execute_result"
    }
   ],
   "source": [
    "len(product_images)"
   ]
  },
  {
   "cell_type": "code",
   "execution_count": 275,
   "metadata": {},
   "outputs": [],
   "source": [
    "for image, description, uniq_id in zip(current_imgs, current_desc, current_ids):\n",
    "    generated_captions = generate_captions(image, description, uniq_id)\n",
    "    for x in generated_captions.split('\\n'):\n",
    "        # if 'error' not in x.lower():\n",
    "        if x != '':\n",
    "            uniq_to_generated_description[uniq_id].append(x)\n",
    "        else:\n",
    "            error_imgs.append(uniq_id)"
   ]
  },
  {
   "cell_type": "code",
   "execution_count": 276,
   "metadata": {},
   "outputs": [
    {
     "name": "stdout",
     "output_type": "stream",
     "text": [
      "1345\n"
     ]
    }
   ],
   "source": [
    "print(len(uniq_to_generated_description.keys()))"
   ]
  },
  {
   "cell_type": "markdown",
   "metadata": {},
   "source": [
    "store these generated captions for later use"
   ]
  },
  {
   "cell_type": "code",
   "execution_count": 278,
   "metadata": {},
   "outputs": [],
   "source": [
    "with open(\"./data.json\", \"w\") as file:\n",
    "    json.dump(uniq_to_generated_description, file)"
   ]
  }
 ],
 "metadata": {
  "kernelspec": {
   "display_name": "Python 3",
   "language": "python",
   "name": "python3"
  },
  "language_info": {
   "codemirror_mode": {
    "name": "ipython",
    "version": 3
   },
   "file_extension": ".py",
   "mimetype": "text/x-python",
   "name": "python",
   "nbconvert_exporter": "python",
   "pygments_lexer": "ipython3",
   "version": "3.10.11"
  }
 },
 "nbformat": 4,
 "nbformat_minor": 2
}
